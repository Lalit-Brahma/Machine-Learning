{
  "cells": [
    {
      "cell_type": "code",
      "execution_count": null,
      "metadata": {
        "execution": {
          "iopub.execute_input": "2022-02-01T20:13:16.421178Z",
          "iopub.status.busy": "2022-02-01T20:13:16.420603Z",
          "iopub.status.idle": "2022-02-01T20:13:16.42797Z",
          "shell.execute_reply": "2022-02-01T20:13:16.427309Z",
          "shell.execute_reply.started": "2022-02-01T20:13:16.421137Z"
        },
        "id": "fzUZC59s-4jT"
      },
      "outputs": [],
      "source": [
        "import numpy as np\n",
        "import pandas as pd\n",
        "import matplotlib.pyplot as plt\n",
        "import seaborn as sns\n",
        "%matplotlib inline"
      ]
    },
    {
      "cell_type": "code",
      "execution_count": null,
      "metadata": {
        "execution": {
          "iopub.execute_input": "2022-02-01T20:13:16.429882Z",
          "iopub.status.busy": "2022-02-01T20:13:16.429509Z",
          "iopub.status.idle": "2022-02-01T20:13:18.816212Z",
          "shell.execute_reply": "2022-02-01T20:13:18.815091Z",
          "shell.execute_reply.started": "2022-02-01T20:13:16.429851Z"
        },
        "id": "bFDZDEtJ-4jW",
        "colab": {
          "base_uri": "https://localhost:8080/",
          "height": 346
        },
        "outputId": "466c56aa-dd65-460b-81f0-5eea55631e49"
      },
      "outputs": [
        {
          "output_type": "error",
          "ename": "FileNotFoundError",
          "evalue": "ignored",
          "traceback": [
            "\u001b[0;31m---------------------------------------------------------------------------\u001b[0m",
            "\u001b[0;31mFileNotFoundError\u001b[0m                         Traceback (most recent call last)",
            "\u001b[0;32m<ipython-input-2-bd9865bd1a54>\u001b[0m in \u001b[0;36m<module>\u001b[0;34m()\u001b[0m\n\u001b[0;32m----> 1\u001b[0;31m \u001b[0mtrain_data\u001b[0m\u001b[0;34m=\u001b[0m\u001b[0mpd\u001b[0m\u001b[0;34m.\u001b[0m\u001b[0mread_csv\u001b[0m\u001b[0;34m(\u001b[0m\u001b[0;34m'train.csv'\u001b[0m\u001b[0;34m,\u001b[0m \u001b[0msep\u001b[0m\u001b[0;34m=\u001b[0m\u001b[0;34m','\u001b[0m\u001b[0;34m)\u001b[0m\u001b[0;34m\u001b[0m\u001b[0;34m\u001b[0m\u001b[0m\n\u001b[0m\u001b[1;32m      2\u001b[0m \u001b[0mtest_data\u001b[0m\u001b[0;34m=\u001b[0m\u001b[0mpd\u001b[0m\u001b[0;34m.\u001b[0m\u001b[0mread_csv\u001b[0m\u001b[0;34m(\u001b[0m\u001b[0;34m'test.csv'\u001b[0m\u001b[0;34m,\u001b[0m \u001b[0msep\u001b[0m\u001b[0;34m=\u001b[0m\u001b[0;34m','\u001b[0m\u001b[0;34m)\u001b[0m\u001b[0;34m\u001b[0m\u001b[0;34m\u001b[0m\u001b[0m\n",
            "\u001b[0;32m/usr/local/lib/python3.7/dist-packages/pandas/util/_decorators.py\u001b[0m in \u001b[0;36mwrapper\u001b[0;34m(*args, **kwargs)\u001b[0m\n\u001b[1;32m    309\u001b[0m                     \u001b[0mstacklevel\u001b[0m\u001b[0;34m=\u001b[0m\u001b[0mstacklevel\u001b[0m\u001b[0;34m,\u001b[0m\u001b[0;34m\u001b[0m\u001b[0;34m\u001b[0m\u001b[0m\n\u001b[1;32m    310\u001b[0m                 )\n\u001b[0;32m--> 311\u001b[0;31m             \u001b[0;32mreturn\u001b[0m \u001b[0mfunc\u001b[0m\u001b[0;34m(\u001b[0m\u001b[0;34m*\u001b[0m\u001b[0margs\u001b[0m\u001b[0;34m,\u001b[0m \u001b[0;34m**\u001b[0m\u001b[0mkwargs\u001b[0m\u001b[0;34m)\u001b[0m\u001b[0;34m\u001b[0m\u001b[0;34m\u001b[0m\u001b[0m\n\u001b[0m\u001b[1;32m    312\u001b[0m \u001b[0;34m\u001b[0m\u001b[0m\n\u001b[1;32m    313\u001b[0m         \u001b[0;32mreturn\u001b[0m \u001b[0mwrapper\u001b[0m\u001b[0;34m\u001b[0m\u001b[0;34m\u001b[0m\u001b[0m\n",
            "\u001b[0;32m/usr/local/lib/python3.7/dist-packages/pandas/io/parsers/readers.py\u001b[0m in \u001b[0;36mread_csv\u001b[0;34m(filepath_or_buffer, sep, delimiter, header, names, index_col, usecols, squeeze, prefix, mangle_dupe_cols, dtype, engine, converters, true_values, false_values, skipinitialspace, skiprows, skipfooter, nrows, na_values, keep_default_na, na_filter, verbose, skip_blank_lines, parse_dates, infer_datetime_format, keep_date_col, date_parser, dayfirst, cache_dates, iterator, chunksize, compression, thousands, decimal, lineterminator, quotechar, quoting, doublequote, escapechar, comment, encoding, encoding_errors, dialect, error_bad_lines, warn_bad_lines, on_bad_lines, delim_whitespace, low_memory, memory_map, float_precision, storage_options)\u001b[0m\n\u001b[1;32m    584\u001b[0m     \u001b[0mkwds\u001b[0m\u001b[0;34m.\u001b[0m\u001b[0mupdate\u001b[0m\u001b[0;34m(\u001b[0m\u001b[0mkwds_defaults\u001b[0m\u001b[0;34m)\u001b[0m\u001b[0;34m\u001b[0m\u001b[0;34m\u001b[0m\u001b[0m\n\u001b[1;32m    585\u001b[0m \u001b[0;34m\u001b[0m\u001b[0m\n\u001b[0;32m--> 586\u001b[0;31m     \u001b[0;32mreturn\u001b[0m \u001b[0m_read\u001b[0m\u001b[0;34m(\u001b[0m\u001b[0mfilepath_or_buffer\u001b[0m\u001b[0;34m,\u001b[0m \u001b[0mkwds\u001b[0m\u001b[0;34m)\u001b[0m\u001b[0;34m\u001b[0m\u001b[0;34m\u001b[0m\u001b[0m\n\u001b[0m\u001b[1;32m    587\u001b[0m \u001b[0;34m\u001b[0m\u001b[0m\n\u001b[1;32m    588\u001b[0m \u001b[0;34m\u001b[0m\u001b[0m\n",
            "\u001b[0;32m/usr/local/lib/python3.7/dist-packages/pandas/io/parsers/readers.py\u001b[0m in \u001b[0;36m_read\u001b[0;34m(filepath_or_buffer, kwds)\u001b[0m\n\u001b[1;32m    480\u001b[0m \u001b[0;34m\u001b[0m\u001b[0m\n\u001b[1;32m    481\u001b[0m     \u001b[0;31m# Create the parser.\u001b[0m\u001b[0;34m\u001b[0m\u001b[0;34m\u001b[0m\u001b[0;34m\u001b[0m\u001b[0m\n\u001b[0;32m--> 482\u001b[0;31m     \u001b[0mparser\u001b[0m \u001b[0;34m=\u001b[0m \u001b[0mTextFileReader\u001b[0m\u001b[0;34m(\u001b[0m\u001b[0mfilepath_or_buffer\u001b[0m\u001b[0;34m,\u001b[0m \u001b[0;34m**\u001b[0m\u001b[0mkwds\u001b[0m\u001b[0;34m)\u001b[0m\u001b[0;34m\u001b[0m\u001b[0;34m\u001b[0m\u001b[0m\n\u001b[0m\u001b[1;32m    483\u001b[0m \u001b[0;34m\u001b[0m\u001b[0m\n\u001b[1;32m    484\u001b[0m     \u001b[0;32mif\u001b[0m \u001b[0mchunksize\u001b[0m \u001b[0;32mor\u001b[0m \u001b[0miterator\u001b[0m\u001b[0;34m:\u001b[0m\u001b[0;34m\u001b[0m\u001b[0;34m\u001b[0m\u001b[0m\n",
            "\u001b[0;32m/usr/local/lib/python3.7/dist-packages/pandas/io/parsers/readers.py\u001b[0m in \u001b[0;36m__init__\u001b[0;34m(self, f, engine, **kwds)\u001b[0m\n\u001b[1;32m    809\u001b[0m             \u001b[0mself\u001b[0m\u001b[0;34m.\u001b[0m\u001b[0moptions\u001b[0m\u001b[0;34m[\u001b[0m\u001b[0;34m\"has_index_names\"\u001b[0m\u001b[0;34m]\u001b[0m \u001b[0;34m=\u001b[0m \u001b[0mkwds\u001b[0m\u001b[0;34m[\u001b[0m\u001b[0;34m\"has_index_names\"\u001b[0m\u001b[0;34m]\u001b[0m\u001b[0;34m\u001b[0m\u001b[0;34m\u001b[0m\u001b[0m\n\u001b[1;32m    810\u001b[0m \u001b[0;34m\u001b[0m\u001b[0m\n\u001b[0;32m--> 811\u001b[0;31m         \u001b[0mself\u001b[0m\u001b[0;34m.\u001b[0m\u001b[0m_engine\u001b[0m \u001b[0;34m=\u001b[0m \u001b[0mself\u001b[0m\u001b[0;34m.\u001b[0m\u001b[0m_make_engine\u001b[0m\u001b[0;34m(\u001b[0m\u001b[0mself\u001b[0m\u001b[0;34m.\u001b[0m\u001b[0mengine\u001b[0m\u001b[0;34m)\u001b[0m\u001b[0;34m\u001b[0m\u001b[0;34m\u001b[0m\u001b[0m\n\u001b[0m\u001b[1;32m    812\u001b[0m \u001b[0;34m\u001b[0m\u001b[0m\n\u001b[1;32m    813\u001b[0m     \u001b[0;32mdef\u001b[0m \u001b[0mclose\u001b[0m\u001b[0;34m(\u001b[0m\u001b[0mself\u001b[0m\u001b[0;34m)\u001b[0m\u001b[0;34m:\u001b[0m\u001b[0;34m\u001b[0m\u001b[0;34m\u001b[0m\u001b[0m\n",
            "\u001b[0;32m/usr/local/lib/python3.7/dist-packages/pandas/io/parsers/readers.py\u001b[0m in \u001b[0;36m_make_engine\u001b[0;34m(self, engine)\u001b[0m\n\u001b[1;32m   1038\u001b[0m             )\n\u001b[1;32m   1039\u001b[0m         \u001b[0;31m# error: Too many arguments for \"ParserBase\"\u001b[0m\u001b[0;34m\u001b[0m\u001b[0;34m\u001b[0m\u001b[0;34m\u001b[0m\u001b[0m\n\u001b[0;32m-> 1040\u001b[0;31m         \u001b[0;32mreturn\u001b[0m \u001b[0mmapping\u001b[0m\u001b[0;34m[\u001b[0m\u001b[0mengine\u001b[0m\u001b[0;34m]\u001b[0m\u001b[0;34m(\u001b[0m\u001b[0mself\u001b[0m\u001b[0;34m.\u001b[0m\u001b[0mf\u001b[0m\u001b[0;34m,\u001b[0m \u001b[0;34m**\u001b[0m\u001b[0mself\u001b[0m\u001b[0;34m.\u001b[0m\u001b[0moptions\u001b[0m\u001b[0;34m)\u001b[0m  \u001b[0;31m# type: ignore[call-arg]\u001b[0m\u001b[0;34m\u001b[0m\u001b[0;34m\u001b[0m\u001b[0m\n\u001b[0m\u001b[1;32m   1041\u001b[0m \u001b[0;34m\u001b[0m\u001b[0m\n\u001b[1;32m   1042\u001b[0m     \u001b[0;32mdef\u001b[0m \u001b[0m_failover_to_python\u001b[0m\u001b[0;34m(\u001b[0m\u001b[0mself\u001b[0m\u001b[0;34m)\u001b[0m\u001b[0;34m:\u001b[0m\u001b[0;34m\u001b[0m\u001b[0;34m\u001b[0m\u001b[0m\n",
            "\u001b[0;32m/usr/local/lib/python3.7/dist-packages/pandas/io/parsers/c_parser_wrapper.py\u001b[0m in \u001b[0;36m__init__\u001b[0;34m(self, src, **kwds)\u001b[0m\n\u001b[1;32m     49\u001b[0m \u001b[0;34m\u001b[0m\u001b[0m\n\u001b[1;32m     50\u001b[0m         \u001b[0;31m# open handles\u001b[0m\u001b[0;34m\u001b[0m\u001b[0;34m\u001b[0m\u001b[0;34m\u001b[0m\u001b[0m\n\u001b[0;32m---> 51\u001b[0;31m         \u001b[0mself\u001b[0m\u001b[0;34m.\u001b[0m\u001b[0m_open_handles\u001b[0m\u001b[0;34m(\u001b[0m\u001b[0msrc\u001b[0m\u001b[0;34m,\u001b[0m \u001b[0mkwds\u001b[0m\u001b[0;34m)\u001b[0m\u001b[0;34m\u001b[0m\u001b[0;34m\u001b[0m\u001b[0m\n\u001b[0m\u001b[1;32m     52\u001b[0m         \u001b[0;32massert\u001b[0m \u001b[0mself\u001b[0m\u001b[0;34m.\u001b[0m\u001b[0mhandles\u001b[0m \u001b[0;32mis\u001b[0m \u001b[0;32mnot\u001b[0m \u001b[0;32mNone\u001b[0m\u001b[0;34m\u001b[0m\u001b[0;34m\u001b[0m\u001b[0m\n\u001b[1;32m     53\u001b[0m \u001b[0;34m\u001b[0m\u001b[0m\n",
            "\u001b[0;32m/usr/local/lib/python3.7/dist-packages/pandas/io/parsers/base_parser.py\u001b[0m in \u001b[0;36m_open_handles\u001b[0;34m(self, src, kwds)\u001b[0m\n\u001b[1;32m    227\u001b[0m             \u001b[0mmemory_map\u001b[0m\u001b[0;34m=\u001b[0m\u001b[0mkwds\u001b[0m\u001b[0;34m.\u001b[0m\u001b[0mget\u001b[0m\u001b[0;34m(\u001b[0m\u001b[0;34m\"memory_map\"\u001b[0m\u001b[0;34m,\u001b[0m \u001b[0;32mFalse\u001b[0m\u001b[0;34m)\u001b[0m\u001b[0;34m,\u001b[0m\u001b[0;34m\u001b[0m\u001b[0;34m\u001b[0m\u001b[0m\n\u001b[1;32m    228\u001b[0m             \u001b[0mstorage_options\u001b[0m\u001b[0;34m=\u001b[0m\u001b[0mkwds\u001b[0m\u001b[0;34m.\u001b[0m\u001b[0mget\u001b[0m\u001b[0;34m(\u001b[0m\u001b[0;34m\"storage_options\"\u001b[0m\u001b[0;34m,\u001b[0m \u001b[0;32mNone\u001b[0m\u001b[0;34m)\u001b[0m\u001b[0;34m,\u001b[0m\u001b[0;34m\u001b[0m\u001b[0;34m\u001b[0m\u001b[0m\n\u001b[0;32m--> 229\u001b[0;31m             \u001b[0merrors\u001b[0m\u001b[0;34m=\u001b[0m\u001b[0mkwds\u001b[0m\u001b[0;34m.\u001b[0m\u001b[0mget\u001b[0m\u001b[0;34m(\u001b[0m\u001b[0;34m\"encoding_errors\"\u001b[0m\u001b[0;34m,\u001b[0m \u001b[0;34m\"strict\"\u001b[0m\u001b[0;34m)\u001b[0m\u001b[0;34m,\u001b[0m\u001b[0;34m\u001b[0m\u001b[0;34m\u001b[0m\u001b[0m\n\u001b[0m\u001b[1;32m    230\u001b[0m         )\n\u001b[1;32m    231\u001b[0m \u001b[0;34m\u001b[0m\u001b[0m\n",
            "\u001b[0;32m/usr/local/lib/python3.7/dist-packages/pandas/io/common.py\u001b[0m in \u001b[0;36mget_handle\u001b[0;34m(path_or_buf, mode, encoding, compression, memory_map, is_text, errors, storage_options)\u001b[0m\n\u001b[1;32m    705\u001b[0m                 \u001b[0mencoding\u001b[0m\u001b[0;34m=\u001b[0m\u001b[0mioargs\u001b[0m\u001b[0;34m.\u001b[0m\u001b[0mencoding\u001b[0m\u001b[0;34m,\u001b[0m\u001b[0;34m\u001b[0m\u001b[0;34m\u001b[0m\u001b[0m\n\u001b[1;32m    706\u001b[0m                 \u001b[0merrors\u001b[0m\u001b[0;34m=\u001b[0m\u001b[0merrors\u001b[0m\u001b[0;34m,\u001b[0m\u001b[0;34m\u001b[0m\u001b[0;34m\u001b[0m\u001b[0m\n\u001b[0;32m--> 707\u001b[0;31m                 \u001b[0mnewline\u001b[0m\u001b[0;34m=\u001b[0m\u001b[0;34m\"\"\u001b[0m\u001b[0;34m,\u001b[0m\u001b[0;34m\u001b[0m\u001b[0;34m\u001b[0m\u001b[0m\n\u001b[0m\u001b[1;32m    708\u001b[0m             )\n\u001b[1;32m    709\u001b[0m         \u001b[0;32melse\u001b[0m\u001b[0;34m:\u001b[0m\u001b[0;34m\u001b[0m\u001b[0;34m\u001b[0m\u001b[0m\n",
            "\u001b[0;31mFileNotFoundError\u001b[0m: [Errno 2] No such file or directory: 'train.csv'"
          ]
        }
      ],
      "source": [
        "train_data=pd.read_csv('train.csv', sep=',')\n",
        "test_data=pd.read_csv('test.csv', sep=',')"
      ]
    },
    {
      "cell_type": "code",
      "execution_count": null,
      "metadata": {
        "execution": {
          "iopub.execute_input": "2022-02-01T20:13:18.821875Z",
          "iopub.status.busy": "2022-02-01T20:13:18.819511Z",
          "iopub.status.idle": "2022-02-01T20:13:18.847922Z",
          "shell.execute_reply": "2022-02-01T20:13:18.84702Z",
          "shell.execute_reply.started": "2022-02-01T20:13:18.821834Z"
        },
        "id": "ch6gKT8D-4jX"
      },
      "outputs": [],
      "source": [
        "train_data.head()\n"
      ]
    },
    {
      "cell_type": "code",
      "execution_count": null,
      "metadata": {
        "execution": {
          "iopub.execute_input": "2022-02-01T20:13:18.85019Z",
          "iopub.status.busy": "2022-02-01T20:13:18.84922Z",
          "iopub.status.idle": "2022-02-01T20:13:18.878463Z",
          "shell.execute_reply": "2022-02-01T20:13:18.877603Z",
          "shell.execute_reply.started": "2022-02-01T20:13:18.850154Z"
        },
        "id": "P1Tu0U4Z-4jc"
      },
      "outputs": [],
      "source": [
        "test_data.head()"
      ]
    },
    {
      "cell_type": "code",
      "execution_count": null,
      "metadata": {
        "execution": {
          "iopub.execute_input": "2022-02-01T20:13:18.881449Z",
          "iopub.status.busy": "2022-02-01T20:13:18.881103Z",
          "iopub.status.idle": "2022-02-01T20:13:18.886742Z",
          "shell.execute_reply": "2022-02-01T20:13:18.886114Z",
          "shell.execute_reply.started": "2022-02-01T20:13:18.881405Z"
        },
        "id": "LjLb3FQE-4jd"
      },
      "outputs": [],
      "source": [
        "print(train_data.shape)\n",
        "print(test_data.shape)"
      ]
    },
    {
      "cell_type": "code",
      "execution_count": null,
      "metadata": {
        "execution": {
          "iopub.execute_input": "2022-02-01T20:13:18.888735Z",
          "iopub.status.busy": "2022-02-01T20:13:18.88783Z",
          "iopub.status.idle": "2022-02-01T20:13:18.902623Z",
          "shell.execute_reply": "2022-02-01T20:13:18.901779Z",
          "shell.execute_reply.started": "2022-02-01T20:13:18.88869Z"
        },
        "id": "aHju3qsx-4jh"
      },
      "outputs": [],
      "source": [
        "print(test_data.columns)\n",
        "print(train_data.columns)"
      ]
    },
    {
      "cell_type": "code",
      "execution_count": null,
      "metadata": {
        "execution": {
          "iopub.execute_input": "2022-02-01T20:13:18.904514Z",
          "iopub.status.busy": "2022-02-01T20:13:18.903868Z",
          "iopub.status.idle": "2022-02-01T20:13:18.913913Z",
          "shell.execute_reply": "2022-02-01T20:13:18.91327Z",
          "shell.execute_reply.started": "2022-02-01T20:13:18.904475Z"
        },
        "id": "jXTEfWa3-4jl"
      },
      "outputs": [],
      "source": [
        "#sns.heatmap(train_data.isnull(), cmap='Blues')"
      ]
    },
    {
      "cell_type": "code",
      "execution_count": null,
      "metadata": {
        "execution": {
          "iopub.execute_input": "2022-02-01T20:13:18.915813Z",
          "iopub.status.busy": "2022-02-01T20:13:18.915356Z",
          "iopub.status.idle": "2022-02-01T20:13:18.926703Z",
          "shell.execute_reply": "2022-02-01T20:13:18.925793Z",
          "shell.execute_reply.started": "2022-02-01T20:13:18.915779Z"
        },
        "id": "ZKBTG-IB-4jv"
      },
      "outputs": [],
      "source": [
        "#sns.heatmap(test_data.isnull(), cmap='Blues')"
      ]
    },
    {
      "cell_type": "code",
      "execution_count": null,
      "metadata": {
        "execution": {
          "iopub.execute_input": "2022-02-01T20:13:18.928827Z",
          "iopub.status.busy": "2022-02-01T20:13:18.927893Z",
          "iopub.status.idle": "2022-02-01T20:13:19.020549Z",
          "shell.execute_reply": "2022-02-01T20:13:19.019274Z",
          "shell.execute_reply.started": "2022-02-01T20:13:18.92878Z"
        },
        "id": "GmJMJrM8-4j1"
      },
      "outputs": [],
      "source": [
        "print(train_data.reassignment_method.unique())\n",
        "print(train_data.reassignment_reason.unique())\n",
        "print(train_data.reassigned_order.unique())"
      ]
    },
    {
      "cell_type": "code",
      "execution_count": null,
      "metadata": {
        "execution": {
          "iopub.execute_input": "2022-02-01T20:13:19.022974Z",
          "iopub.status.busy": "2022-02-01T20:13:19.022605Z",
          "iopub.status.idle": "2022-02-01T20:13:19.049417Z",
          "shell.execute_reply": "2022-02-01T20:13:19.048198Z",
          "shell.execute_reply.started": "2022-02-01T20:13:19.022912Z"
        },
        "id": "JTzd_x65-4j3"
      },
      "outputs": [],
      "source": [
        "train_data[(train_data['reassigned_order']==1)].cancelled.unique()"
      ]
    },
    {
      "cell_type": "code",
      "execution_count": null,
      "metadata": {
        "execution": {
          "iopub.execute_input": "2022-02-01T20:13:19.0528Z",
          "iopub.status.busy": "2022-02-01T20:13:19.052327Z",
          "iopub.status.idle": "2022-02-01T20:13:19.063847Z",
          "shell.execute_reply": "2022-02-01T20:13:19.062835Z",
          "shell.execute_reply.started": "2022-02-01T20:13:19.052764Z"
        },
        "id": "OosWTSTE-4j4"
      },
      "outputs": [],
      "source": [
        "train_data.rider_id.unique()"
      ]
    },
    {
      "cell_type": "code",
      "execution_count": null,
      "metadata": {
        "execution": {
          "iopub.execute_input": "2022-02-01T20:13:19.066134Z",
          "iopub.status.busy": "2022-02-01T20:13:19.065222Z",
          "iopub.status.idle": "2022-02-01T20:13:19.109053Z",
          "shell.execute_reply": "2022-02-01T20:13:19.108105Z",
          "shell.execute_reply.started": "2022-02-01T20:13:19.066097Z"
        },
        "id": "uFS6Ev_c-4j5"
      },
      "outputs": [],
      "source": [
        "y=train_data.cancelled\n",
        "X=train_data.drop(columns=['order_id','rider_id','reassignment_method', 'reassignment_reason', 'reassigned_order', 'pickup_time', 'delivered_time', 'cancelled', 'cancelled_time'], axis=1)\n",
        "X_test=test_data.drop(columns=['order_id','rider_id', 'reassignment_method', 'reassignment_reason', 'reassigned_order'], axis=1)"
      ]
    },
    {
      "cell_type": "code",
      "execution_count": null,
      "metadata": {
        "execution": {
          "iopub.execute_input": "2022-02-01T20:13:19.110921Z",
          "iopub.status.busy": "2022-02-01T20:13:19.110368Z",
          "iopub.status.idle": "2022-02-01T20:13:19.418846Z",
          "shell.execute_reply": "2022-02-01T20:13:19.417901Z",
          "shell.execute_reply.started": "2022-02-01T20:13:19.110863Z"
        },
        "id": "kyPFcH4f-4j6"
      },
      "outputs": [],
      "source": [
        "X=X.fillna(0)\n",
        "X_test=X_test.fillna(0)"
      ]
    },
    {
      "cell_type": "code",
      "execution_count": null,
      "metadata": {
        "execution": {
          "iopub.execute_input": "2022-02-01T20:13:19.420506Z",
          "iopub.status.busy": "2022-02-01T20:13:19.420252Z",
          "iopub.status.idle": "2022-02-01T20:13:20.537609Z",
          "shell.execute_reply": "2022-02-01T20:13:20.536383Z",
          "shell.execute_reply.started": "2022-02-01T20:13:19.420473Z"
        },
        "id": "GWy1-Xa8-4j9"
      },
      "outputs": [],
      "source": [
        "X['month']=pd.DatetimeIndex(X['order_time']).month\n",
        "X['day_of_week']=pd.DatetimeIndex(X['order_time']).day_of_week\n",
        "X['order_hour']=pd.DatetimeIndex(X['order_time']).hour\n",
        "X['order_minutes']=pd.DatetimeIndex(X['order_time']).minute\n",
        "X['accept_hour']=pd.DatetimeIndex(X['accept_time']).hour\n",
        "X['accept_minutes']=pd.DatetimeIndex(X['accept_time']).minute\n",
        "X['order_seconds']=pd.DatetimeIndex(X['order_time']).second\n",
        "X['accept_seconds']=pd.DatetimeIndex(X['accept_time']).second\n",
        "X['process_time']=np.abs(np.abs((X['accept_hour']-X['order_hour'])*60)-(np.abs(X['accept_minutes']-X['order_minutes']))*60+np.abs(X['accept_seconds']-X['order_seconds']))\n",
        "X['total_distance']=X['first_mile_distance']+X['last_mile_distance']\n",
        "#X['rider_score']=X['delivered_orders']/(X['delivered_orders']+X['undelivered_orders'])\n",
        "X['rider_like']=X['alloted_orders']/X['alloted_orders'].sum()"
      ]
    },
    {
      "cell_type": "code",
      "execution_count": null,
      "metadata": {
        "execution": {
          "iopub.execute_input": "2022-02-01T20:13:20.540278Z",
          "iopub.status.busy": "2022-02-01T20:13:20.539899Z",
          "iopub.status.idle": "2022-02-01T20:13:20.967524Z",
          "shell.execute_reply": "2022-02-01T20:13:20.966747Z",
          "shell.execute_reply.started": "2022-02-01T20:13:20.540221Z"
        },
        "id": "RWJBM6CZ-4j-"
      },
      "outputs": [],
      "source": [
        "X_test['month']=pd.DatetimeIndex(X_test['order_time']).month\n",
        "X_test['day_of_week']=pd.DatetimeIndex(X_test['order_time']).day_of_week\n",
        "X_test['order_hour']=pd.DatetimeIndex(X_test['order_time']).hour\n",
        "X_test['order_minutes']=pd.DatetimeIndex(X_test['order_time']).minute\n",
        "X_test['accept_hour']=pd.DatetimeIndex(X_test['accept_time']).hour\n",
        "X_test['accept_minutes']=pd.DatetimeIndex(X_test['accept_time']).minute\n",
        "X_test['order_seconds']=pd.DatetimeIndex(X_test['order_time']).second\n",
        "X_test['accept_seconds']=pd.DatetimeIndex(X_test['accept_time']).second\n",
        "X_test['process_time']=np.abs(np.abs((X_test['accept_hour']-X_test['order_hour'])*60)-(np.abs(X['accept_minutes']-X['order_minutes']))*60+ np.abs(X_test['accept_seconds']-X_test['order_seconds']))\n",
        "X_test['total_distance']=X_test['first_mile_distance']+X_test['last_mile_distance']\n",
        "#X_test['rider_score']=X_test['delivered_orders']/(X_test['delivered_orders']+X_test['undelivered_orders'])\n",
        "X_test['rider_like']=X_test['alloted_orders']/X_test['alloted_orders'].sum()"
      ]
    },
    {
      "cell_type": "code",
      "execution_count": null,
      "metadata": {
        "execution": {
          "iopub.execute_input": "2022-02-01T20:13:20.970767Z",
          "iopub.status.busy": "2022-02-01T20:13:20.970401Z",
          "iopub.status.idle": "2022-02-01T20:13:21.107826Z",
          "shell.execute_reply": "2022-02-01T20:13:21.107156Z",
          "shell.execute_reply.started": "2022-02-01T20:13:20.970721Z"
        },
        "id": "u1JCkKmF-4kB"
      },
      "outputs": [],
      "source": [
        "X=X.drop(columns=[ 'order_time', 'order_date', 'allot_time','accept_time', 'order_minutes','accept_hour', 'accept_minutes', 'first_mile_distance', 'last_mile_distance', 'order_time', 'delivered_orders', 'undelivered_orders', 'alloted_orders'], axis=1)\n",
        "X_test=X_test.drop(columns=[ 'order_time', 'order_date',  'allot_time','accept_time', 'order_minutes','accept_hour', 'accept_minutes', 'first_mile_distance', 'last_mile_distance', 'order_time', 'delivered_orders', 'undelivered_orders', 'alloted_orders'], axis=1)"
      ]
    },
    {
      "cell_type": "code",
      "execution_count": null,
      "metadata": {
        "id": "rhPB36kx-4kE"
      },
      "outputs": [],
      "source": [
        "X=X.fillna(0)\n",
        "X_test=X_test.fillna(0)"
      ]
    },
    {
      "cell_type": "code",
      "execution_count": null,
      "metadata": {
        "execution": {
          "iopub.execute_input": "2022-02-01T20:13:21.11009Z",
          "iopub.status.busy": "2022-02-01T20:13:21.10975Z",
          "iopub.status.idle": "2022-02-01T20:13:21.295004Z",
          "shell.execute_reply": "2022-02-01T20:13:21.294048Z",
          "shell.execute_reply.started": "2022-02-01T20:13:21.110045Z"
        },
        "id": "6dM33exA-4kG"
      },
      "outputs": [],
      "source": [
        "X.describe()"
      ]
    },
    {
      "cell_type": "code",
      "execution_count": null,
      "metadata": {
        "execution": {
          "iopub.execute_input": "2022-02-01T20:13:21.296708Z",
          "iopub.status.busy": "2022-02-01T20:13:21.296439Z",
          "iopub.status.idle": "2022-02-01T20:13:21.30332Z",
          "shell.execute_reply": "2022-02-01T20:13:21.302031Z",
          "shell.execute_reply.started": "2022-02-01T20:13:21.296674Z"
        },
        "id": "9hoZHTMO-4kI"
      },
      "outputs": [],
      "source": [
        "from sklearn.model_selection import KFold, cross_val_score, train_test_split, RandomizedSearchCV\n",
        "from sklearn.preprocessing import MinMaxScaler, StandardScaler, PowerTransformer\n",
        "from sklearn.linear_model import LogisticRegression\n",
        "from sklearn.ensemble import RandomForestClassifier\n",
        "from sklearn.tree import DecisionTreeClassifier\n",
        "from sklearn.metrics import accuracy_score\n",
        "from tensorflow import keras\n",
        "from tensorflow.keras.layers import Dense, Dropout\n",
        "from tensorflow.keras.models import Sequential\n",
        "from tensorflow.keras.initializers import Constant\n",
        "from tensorflow.keras.callbacks import EarlyStopping\n",
        "from keras.wrappers.scikit_learn import KerasClassifier"
      ]
    },
    {
      "cell_type": "code",
      "execution_count": null,
      "metadata": {
        "execution": {
          "iopub.execute_input": "2022-02-01T20:13:21.304888Z",
          "iopub.status.busy": "2022-02-01T20:13:21.304648Z",
          "iopub.status.idle": "2022-02-01T20:13:21.329837Z",
          "shell.execute_reply": "2022-02-01T20:13:21.328576Z",
          "shell.execute_reply.started": "2022-02-01T20:13:21.304856Z"
        },
        "id": "_yBIkaoC-4kL"
      },
      "outputs": [],
      "source": [
        "cols=[ 'lifetime_order_count', 'session_time', 'process_time']"
      ]
    },
    {
      "cell_type": "code",
      "source": [
        "print(X.shape)\n",
        "print(X_test.shape)"
      ],
      "metadata": {
        "id": "i3l1NVDeKHjC"
      },
      "execution_count": null,
      "outputs": []
    },
    {
      "cell_type": "code",
      "execution_count": null,
      "metadata": {
        "execution": {
          "iopub.execute_input": "2022-02-01T20:13:27.240188Z",
          "iopub.status.busy": "2022-02-01T20:13:27.23954Z",
          "iopub.status.idle": "2022-02-01T20:13:27.315073Z",
          "shell.execute_reply": "2022-02-01T20:13:27.314149Z",
          "shell.execute_reply.started": "2022-02-01T20:13:27.240148Z"
        },
        "id": "XLpmoBLi-4kN"
      },
      "outputs": [],
      "source": [
        "minmax=StandardScaler()\n",
        "X=minmax.fit_transform(X)\n",
        "X_test=minmax.fit_transform(X_test)"
      ]
    },
    {
      "cell_type": "code",
      "execution_count": null,
      "metadata": {
        "execution": {
          "iopub.execute_input": "2022-02-01T20:13:27.338401Z",
          "iopub.status.busy": "2022-02-01T20:13:27.337627Z",
          "iopub.status.idle": "2022-02-01T20:13:27.344641Z",
          "shell.execute_reply": "2022-02-01T20:13:27.344049Z",
          "shell.execute_reply.started": "2022-02-01T20:13:27.338332Z"
        },
        "id": "-wJmXiJX-4kQ"
      },
      "outputs": [],
      "source": [
        "fold_metrics=[]"
      ]
    },
    {
      "cell_type": "code",
      "source": [
        "zero, one=np.bincount(y)\n",
        "print(100*one/(one+zero))"
      ],
      "metadata": {
        "id": "YkOGYBQm_MOW"
      },
      "execution_count": null,
      "outputs": []
    },
    {
      "cell_type": "code",
      "source": [
        "met=[keras.metrics.AUC(name='auc'),\n",
        "     keras.metrics.BinaryAccuracy(name='accuracy')]"
      ],
      "metadata": {
        "id": "LvHuNlwXD3IQ"
      },
      "execution_count": null,
      "outputs": []
    },
    {
      "cell_type": "code",
      "source": [
        "def make_model(metrics=met, output_bias=None):\n",
        "  if output_bias is not None:\n",
        "    output_bias = Constant(output_bias)\n",
        "    opt=keras.optimizers.Adam(learning_rate=0.01)\n",
        "    model = Sequential()\n",
        "    model.add(Dense(16, activation='relu', input_dim=X.shape[-1]))\n",
        "    model.add(Dropout(0.5))\n",
        "    model.add(Dense(8, activation='relu'))\n",
        "    model.add(Dropout(0.5))\n",
        "    model.add(Dense(1, activation='sigmoid', bias_initializer=output_bias))\n",
        "\n",
        "  model.compile(optimizer=opt, loss='binary_crossentropy', metrics=met)\n",
        "\n",
        "  return model"
      ],
      "metadata": {
        "id": "u5VM1gNfBGDW"
      },
      "execution_count": null,
      "outputs": []
    },
    {
      "cell_type": "code",
      "source": [
        "bias=np.log([one/zero])\n",
        "early_stopping=EarlyStopping(patience=50)"
      ],
      "metadata": {
        "id": "YRJAiXdOGz0e"
      },
      "execution_count": null,
      "outputs": []
    },
    {
      "cell_type": "code",
      "source": [
        "model=make_model(output_bias=bias)\n",
        "model.fit(X, y, epochs=100, batch_size=3000, validation_split=0.22)\n"
      ],
      "metadata": {
        "id": "_L_9OhHjIwFB"
      },
      "execution_count": null,
      "outputs": []
    },
    {
      "cell_type": "code",
      "source": [
        "weight_0=(1/zero)*((zero+one)/2)\n",
        "weight_1=(1/one)*((zero+one)/2)\n",
        "\n",
        "class_weight = {0: weight_0, 1: weight_1}"
      ],
      "metadata": {
        "id": "sy3lVU1Q6CI1"
      },
      "execution_count": null,
      "outputs": []
    },
    {
      "cell_type": "code",
      "execution_count": null,
      "metadata": {
        "execution": {
          "iopub.execute_input": "2022-02-01T20:13:31.925489Z",
          "iopub.status.busy": "2022-02-01T20:13:31.925163Z",
          "iopub.status.idle": "2022-02-01T20:13:31.996254Z",
          "shell.execute_reply": "2022-02-01T20:13:31.995219Z",
          "shell.execute_reply.started": "2022-02-01T20:13:31.925446Z"
        },
        "id": "2_qNji_A-4kW"
      },
      "outputs": [],
      "source": [
        "test_data['pred']=model.predict(X_test)"
      ]
    },
    {
      "cell_type": "code",
      "execution_count": null,
      "metadata": {
        "execution": {
          "iopub.execute_input": "2022-02-01T20:13:31.998002Z",
          "iopub.status.busy": "2022-02-01T20:13:31.997725Z",
          "iopub.status.idle": "2022-02-01T20:13:32.012581Z",
          "shell.execute_reply": "2022-02-01T20:13:32.011929Z",
          "shell.execute_reply.started": "2022-02-01T20:13:31.997963Z"
        },
        "id": "WFs4HXB7-4kX"
      },
      "outputs": [],
      "source": [
        "test_data[test_data['pred']==1]['pred'].sum()"
      ]
    },
    {
      "cell_type": "code",
      "execution_count": null,
      "metadata": {
        "execution": {
          "iopub.execute_input": "2022-02-01T20:13:32.014261Z",
          "iopub.status.busy": "2022-02-01T20:13:32.01366Z",
          "iopub.status.idle": "2022-02-01T20:13:32.262994Z",
          "shell.execute_reply": "2022-02-01T20:13:32.262021Z",
          "shell.execute_reply.started": "2022-02-01T20:13:32.014217Z"
        },
        "id": "1RgEjA3X-4kX"
      },
      "outputs": [],
      "source": [
        "res = pd.DataFrame(test_data, columns=['order_id', 'pred'])\n",
        "res.columns = ['order_id','cancelled']\n",
        "\n",
        "# To download the csv file locally\n",
        "res.to_csv('submission.csv', index=False)  \n",
        "from google.colab import files\n",
        "files.download('submission.csv')"
      ]
    }
  ],
  "metadata": {
    "kernelspec": {
      "display_name": "Python 3",
      "language": "python",
      "name": "python3"
    },
    "language_info": {
      "codemirror_mode": {
        "name": "ipython",
        "version": 3
      },
      "file_extension": ".py",
      "mimetype": "text/x-python",
      "name": "python",
      "nbconvert_exporter": "python",
      "pygments_lexer": "ipython3",
      "version": "3.8.8"
    },
    "colab": {
      "name": "cascade-cup-22.ipynb",
      "provenance": [],
      "collapsed_sections": []
    },
    "accelerator": "TPU"
  },
  "nbformat": 4,
  "nbformat_minor": 0
}